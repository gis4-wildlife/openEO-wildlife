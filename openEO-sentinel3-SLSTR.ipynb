{
 "cells": [
  {
   "cell_type": "markdown",
   "id": "85fb5736",
   "metadata": {},
   "source": [
    "# ***OpenEO - [GIS4 wildlife movement analytics](https://www.gis4-wildlife.com/)***"
   ]
  },
  {
   "cell_type": "markdown",
   "id": "771961cd",
   "metadata": {},
   "source": [
    "## ***1. Fetch data from openEO***"
   ]
  },
  {
   "cell_type": "code",
   "execution_count": 2,
   "id": "d54cfced",
   "metadata": {},
   "outputs": [],
   "source": [
    "import openeo\n",
    "import pandas as pd\n",
    "import geopandas as gpd\n",
    "import xarray as xr\n",
    "HDF5_USE_FILE_LOCKING=False\n",
    "import matplotlib.pyplot as plt"
   ]
  },
  {
   "cell_type": "code",
   "execution_count": null,
   "id": "9ade2348",
   "metadata": {},
   "outputs": [],
   "source": [
    "# Documentation: https://docs.openeo.cloud/getting-started/python/#connect-to-openeo-platform-and-explore\n",
    "\n",
    "# API connection to openEO\n",
    "connection = openeo.connect(\"openeo.cloud\").authenticate_oidc()"
   ]
  },
  {
   "cell_type": "code",
   "execution_count": null,
   "id": "b5fa9d05",
   "metadata": {},
   "outputs": [],
   "source": [
    "# connection.list_collections()"
   ]
  },
  {
   "cell_type": "code",
   "execution_count": null,
   "id": "f3cc998a",
   "metadata": {},
   "outputs": [],
   "source": [
    "# connection.list_processes()"
   ]
  },
  {
   "cell_type": "code",
   "execution_count": null,
   "id": "f400a36d",
   "metadata": {},
   "outputs": [],
   "source": [
    "# Fetch data from boundary, dates, and specific band with SST\n",
    "datacube = connection.load_collection(\n",
    "  \"SENTINEL3_SLSTR\",\n",
    "  spatial_extent={\"west\":-100.00,\"south\":-8.00,\"east\":-76.00,\"north\":8.00},\n",
    "  temporal_extent=[\"2022-02-01\", \"2022-02-10\"],\n",
    "  bands=[\"S9\"]\n",
    ")"
   ]
  },
  {
   "cell_type": "code",
   "execution_count": null,
   "id": "4cc23ad5",
   "metadata": {},
   "outputs": [],
   "source": [
    "# Willing to create a datacube with weekly average\n",
    "datacube = datacube.mean_time()"
   ]
  },
  {
   "cell_type": "code",
   "execution_count": null,
   "id": "e9f89fca",
   "metadata": {},
   "outputs": [],
   "source": [
    "# Download file in local disk\n",
    "datacube.download(\"sst.nc\", format=\"netcdf\")"
   ]
  },
  {
   "cell_type": "markdown",
   "id": "6c5f9a04",
   "metadata": {},
   "source": [
    "## ***2. Read and transform downloaded data***"
   ]
  },
  {
   "cell_type": "code",
   "execution_count": 3,
   "id": "273da16f",
   "metadata": {},
   "outputs": [],
   "source": [
    "# Read the NetCDF file and transformed in DataFrame \n",
    "DS = xr.open_dataset('results/sst.nc')\n",
    "\n",
    "DF = DS.to_dataframe()"
   ]
  },
  {
   "cell_type": "code",
   "execution_count": 4,
   "id": "9d475d1d",
   "metadata": {},
   "outputs": [],
   "source": [
    "# index removed\n",
    "DF = DF.reset_index(drop=False)\n",
    "\n",
    "# from Kelvin to Celsius\n",
    "DF['S9'] = DF['S9'] - 273.15 "
   ]
  },
  {
   "cell_type": "code",
   "execution_count": 5,
   "id": "0ffd2405",
   "metadata": {},
   "outputs": [
    {
     "data": {
      "text/html": [
       "<div>\n",
       "<style scoped>\n",
       "    .dataframe tbody tr th:only-of-type {\n",
       "        vertical-align: middle;\n",
       "    }\n",
       "\n",
       "    .dataframe tbody tr th {\n",
       "        vertical-align: top;\n",
       "    }\n",
       "\n",
       "    .dataframe thead th {\n",
       "        text-align: right;\n",
       "    }\n",
       "</style>\n",
       "<table border=\"1\" class=\"dataframe\">\n",
       "  <thead>\n",
       "    <tr style=\"text-align: right;\">\n",
       "      <th></th>\n",
       "      <th>x</th>\n",
       "      <th>y</th>\n",
       "      <th>crs</th>\n",
       "      <th>S9</th>\n",
       "    </tr>\n",
       "  </thead>\n",
       "  <tbody>\n",
       "    <tr>\n",
       "      <th>0</th>\n",
       "      <td>-99.99504</td>\n",
       "      <td>7.995040</td>\n",
       "      <td>b''</td>\n",
       "      <td>-31.026678</td>\n",
       "    </tr>\n",
       "    <tr>\n",
       "      <th>1</th>\n",
       "      <td>-99.99504</td>\n",
       "      <td>7.985119</td>\n",
       "      <td>b''</td>\n",
       "      <td>-33.579993</td>\n",
       "    </tr>\n",
       "    <tr>\n",
       "      <th>2</th>\n",
       "      <td>-99.99504</td>\n",
       "      <td>7.975198</td>\n",
       "      <td>b''</td>\n",
       "      <td>-34.620001</td>\n",
       "    </tr>\n",
       "    <tr>\n",
       "      <th>3</th>\n",
       "      <td>-99.99504</td>\n",
       "      <td>7.965278</td>\n",
       "      <td>b''</td>\n",
       "      <td>-35.069998</td>\n",
       "    </tr>\n",
       "    <tr>\n",
       "      <th>4</th>\n",
       "      <td>-99.99504</td>\n",
       "      <td>7.955357</td>\n",
       "      <td>b''</td>\n",
       "      <td>-32.023337</td>\n",
       "    </tr>\n",
       "  </tbody>\n",
       "</table>\n",
       "</div>"
      ],
      "text/plain": [
       "          x         y  crs         S9\n",
       "0 -99.99504  7.995040  b'' -31.026678\n",
       "1 -99.99504  7.985119  b'' -33.579993\n",
       "2 -99.99504  7.975198  b'' -34.620001\n",
       "3 -99.99504  7.965278  b'' -35.069998\n",
       "4 -99.99504  7.955357  b'' -32.023337"
      ]
     },
     "execution_count": 5,
     "metadata": {},
     "output_type": "execute_result"
    }
   ],
   "source": [
    "DF.head()"
   ]
  },
  {
   "cell_type": "code",
   "execution_count": null,
   "id": "d1016c92",
   "metadata": {},
   "outputs": [],
   "source": [
    "DF['S9'].min()"
   ]
  },
  {
   "cell_type": "code",
   "execution_count": null,
   "id": "45790fb0",
   "metadata": {},
   "outputs": [],
   "source": [
    "DF['S9'].max()"
   ]
  },
  {
   "cell_type": "code",
   "execution_count": 6,
   "id": "77eb1b9d",
   "metadata": {},
   "outputs": [],
   "source": [
    "# removal of outliers. Assumed that there is non negative values in the equatorial region\n",
    "DF = DF.loc[DF['S9']>0]"
   ]
  },
  {
   "cell_type": "code",
   "execution_count": null,
   "id": "cd7c7802",
   "metadata": {},
   "outputs": [],
   "source": [
    "DF['S9'].min()"
   ]
  },
  {
   "cell_type": "code",
   "execution_count": null,
   "id": "aadf12a1",
   "metadata": {},
   "outputs": [],
   "source": [
    "DF['S9'].describe()"
   ]
  },
  {
   "cell_type": "code",
   "execution_count": null,
   "id": "e9c75881",
   "metadata": {},
   "outputs": [],
   "source": [
    "DF.to_csv('sst_openEO.csv')"
   ]
  },
  {
   "cell_type": "markdown",
   "id": "b4771181",
   "metadata": {},
   "source": [
    "## ***3. Visualization***"
   ]
  },
  {
   "cell_type": "markdown",
   "id": "40496d9b",
   "metadata": {},
   "source": [
    "![sst](results/sst_gps_s9.png)"
   ]
  },
  {
   "cell_type": "code",
   "execution_count": null,
   "id": "41fa176a",
   "metadata": {},
   "outputs": [],
   "source": [
    "DS.S9.plot(x='x', y='y', figsize=(18,12), cmap='Spectral'); #, vmin=0, vmax=5\n",
    "\n",
    "plt.title('Exploration openEO - SST - Sentinel3');\n",
    "\n",
    "plt.savefig('sst_gps_S9.png', dpi=300)"
   ]
  }
 ],
 "metadata": {
  "kernelspec": {
   "display_name": "Python 3 (ipykernel)",
   "language": "python",
   "name": "python3"
  },
  "language_info": {
   "codemirror_mode": {
    "name": "ipython",
    "version": 3
   },
   "file_extension": ".py",
   "mimetype": "text/x-python",
   "name": "python",
   "nbconvert_exporter": "python",
   "pygments_lexer": "ipython3",
   "version": "3.8.12"
  }
 },
 "nbformat": 4,
 "nbformat_minor": 5
}
