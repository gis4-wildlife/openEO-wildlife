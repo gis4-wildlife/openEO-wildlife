{
 "cells": [
  {
   "cell_type": "markdown",
   "id": "10432df3",
   "metadata": {},
   "source": [
    "# ***OpenEO - [GIS4 wildlife movement analytics](https://www.gis4-wildlife.com/)***"
   ]
  },
  {
   "cell_type": "markdown",
   "id": "8b16af65",
   "metadata": {},
   "source": [
    "## ***1. Fetch data from openEO***"
   ]
  },
  {
   "cell_type": "code",
   "execution_count": null,
   "id": "55ea93a8",
   "metadata": {},
   "outputs": [],
   "source": [
    "import openeo\n",
    "import pandas as pd\n",
    "import geopandas as gpd\n",
    "import xarray as xr\n",
    "HDF5_USE_FILE_LOCKING=False\n",
    "import matplotlib.pyplot as plt\n",
    "import rasterio\n",
    "from rasterio.plot import show"
   ]
  },
  {
   "cell_type": "code",
   "execution_count": null,
   "id": "0ece9f8d",
   "metadata": {},
   "outputs": [],
   "source": [
    "# First, we connect to the back-end and authenticate ourselves via Basic authentication. \n",
    "con = openeo.connect(\"https://earthengine.openeo.org\")\n",
    "con.authenticate_basic(\"group11\", \"test123\")"
   ]
  },
  {
   "cell_type": "code",
   "execution_count": null,
   "id": "7b08f72b",
   "metadata": {},
   "outputs": [],
   "source": [
    "# con.list_collections()"
   ]
  },
  {
   "cell_type": "code",
   "execution_count": null,
   "id": "288a7c80",
   "metadata": {},
   "outputs": [],
   "source": [
    "# Fetch data from boundary, dates, and specific band with Chla\n",
    "datacube = con.load_collection(\"COPERNICUS/S3/OLCI\",\n",
    "                               spatial_extent={\"west\":-100.00,\"south\":-8.00,\"east\":-76.00,\"north\":8.00},\n",
    "                               temporal_extent=[\"2021-10-01\", \"2021-10-30\"],\n",
    "                               bands=[\"Oa10_radiance\"])"
   ]
  },
  {
   "cell_type": "code",
   "execution_count": null,
   "id": "639c5595",
   "metadata": {},
   "outputs": [],
   "source": [
    "# Willing to create a datacube with monthly average\n",
    "datacube = datacube.mean_time()"
   ]
  },
  {
   "cell_type": "code",
   "execution_count": null,
   "id": "2525b6b5",
   "metadata": {},
   "outputs": [],
   "source": [
    "# Download file in local disk\n",
    "result = mean.save_result(format = \"GTIFF-ZIP\")"
   ]
  },
  {
   "cell_type": "code",
   "execution_count": null,
   "id": "513dde7f",
   "metadata": {},
   "outputs": [],
   "source": [
    "# Send job and download\n",
    "job = result.send_job(title = \"temporal_mean_as_GTiff_py\")\n",
    "    \n",
    "job.start_and_wait()\n",
    "job.get_results().download_files(\"outputTIFF\")"
   ]
  },
  {
   "cell_type": "markdown",
   "id": "1dd3b86b",
   "metadata": {},
   "source": [
    "## ***2. Read and visualize output***"
   ]
  },
  {
   "cell_type": "code",
   "execution_count": null,
   "id": "641d250d",
   "metadata": {},
   "outputs": [],
   "source": [
    "# Read with rasterio\n",
    "src = rasterio.open('results/download.Oa10_radiancev.tif')"
   ]
  },
  {
   "cell_type": "code",
   "execution_count": null,
   "id": "d1419ae6",
   "metadata": {},
   "outputs": [],
   "source": [
    "# show with rasterio\n",
    "rasterio.plot.show(src, cmap='Spectral');"
   ]
  },
  {
   "cell_type": "markdown",
   "id": "4806657c",
   "metadata": {},
   "source": [
    "### A second visualization was done in QGIS\n",
    "![chl](results/chl_gps_b10.png)"
   ]
  },
  {
   "cell_type": "code",
   "execution_count": null,
   "id": "4f7b121d",
   "metadata": {},
   "outputs": [],
   "source": []
  },
  {
   "cell_type": "code",
   "execution_count": null,
   "id": "5a5e264e",
   "metadata": {},
   "outputs": [],
   "source": []
  },
  {
   "cell_type": "code",
   "execution_count": null,
   "id": "015fc9f8",
   "metadata": {},
   "outputs": [],
   "source": []
  },
  {
   "cell_type": "code",
   "execution_count": null,
   "id": "68d44b39",
   "metadata": {},
   "outputs": [],
   "source": []
  }
 ],
 "metadata": {
  "kernelspec": {
   "display_name": "Python 3 (ipykernel)",
   "language": "python",
   "name": "python3"
  },
  "language_info": {
   "codemirror_mode": {
    "name": "ipython",
    "version": 3
   },
   "file_extension": ".py",
   "mimetype": "text/x-python",
   "name": "python",
   "nbconvert_exporter": "python",
   "pygments_lexer": "ipython3",
   "version": "3.8.12"
  }
 },
 "nbformat": 4,
 "nbformat_minor": 5
}
